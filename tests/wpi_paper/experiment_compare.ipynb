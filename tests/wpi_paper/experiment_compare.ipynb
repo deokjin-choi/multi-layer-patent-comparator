{
 "cells": [
  {
   "cell_type": "markdown",
   "id": "dfb25d72",
   "metadata": {},
   "source": [
    "** For WPI paper experiment **"
   ]
  },
  {
   "cell_type": "code",
   "execution_count": null,
   "id": "ba228fcd",
   "metadata": {
    "vscode": {
     "languageId": "plaintext"
    }
   },
   "outputs": [],
   "source": []
  },
  {
   "cell_type": "code",
   "execution_count": null,
   "id": "ce6726e6",
   "metadata": {
    "vscode": {
     "languageId": "plaintext"
    }
   },
   "outputs": [],
   "source": []
  }
 ],
 "metadata": {
  "language_info": {
   "name": "python"
  }
 },
 "nbformat": 4,
 "nbformat_minor": 5
}
